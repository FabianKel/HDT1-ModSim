{
 "cells": [
  {
   "cell_type": "markdown",
   "id": "5a9a2ac6",
   "metadata": {},
   "source": [
    "## Ejercicio 1\n",
    "Responda las siguientes preguntas de forma clara"
   ]
  },
  {
   "cell_type": "markdown",
   "id": "2b42dc32",
   "metadata": {},
   "source": [
    "1. **Defina los stocks (reservas) y los flujos en la dinámica de sistemas. Proporcione un ejemplo real (p. ej., modelado de pandemias)**\n",
    "\n",
    " \n",
    "\n",
    "- Los stocks en la dinámica de sistemas se conocen como entidades. Las cuales pueden acumularse o bien agotarse en el sistema. Donde lo que hacen es representar el estado del sistema en un momento especifico y pueden llegar a medirse como una cantidad tangible. Donde un ejemplo puede ser el inventario de algún almacén o bien el dinero de una cuenta bancaria donde los stocks se puede entender como acumulaciones que pueden existir si el tiempo se llegará a detener.  \n",
    "\n",
    " \n",
    "\n",
    "- Los flujos en la dinámica de sistemas son entidades las cuales hacen que los stocks aumenten o disminuyan. Estos flujos representan actividades o tasas de cambio que dependen del tiempo. Tomando el ejemplo del tiempo, en este caso si el tiempo se detuviera los flujos desaparecerían ya que son acciones continuas por el ejemplo en el caso del dinero de una cuenta el flujo se tomaría en cuenta como un retiro, un pago o un depósito, ya que son movimientos que afectan directamente el stock (el saldo de la cuenta). Sin estos movimientos, el stock permanecería constante, pero con ellos, se puede observar cómo el sistema evoluciona o cambia con el tiempo.  \n",
    "\n",
    " \n",
    "\n",
    "En el caso de un modelado de pandemias el stock puede representar la población que fue infectada y el flujo sería la tasa de infección. Por ejemplo, las personas que se infectaron por día o bien de estas personas que fueron infectadas otro flujo podría ser la tasa de recuperación tomando las personas que se recuperan por día o bien la tasa de mortalidad. Siendo como stock la población recuperada y fallecida. Otro ejemplo real podría ser un sistema educativo; donde los stocks son los estudiantes que fueron inscritos como los profesores asignados y las aulas disponibles. Donde el flujo sería la tasa de admisión como también la contratación de los profesores.  \n",
    "\n",
    " \n",
    "\n",
    " "
   ]
  },
  {
   "cell_type": "markdown",
   "id": "d85a0489",
   "metadata": {},
   "source": [
    "2. **Explique la diferencia entre ciclos de retroalimentación de equilibrio (negativos) y de refuerzo (positivos). Dé un ejemplo de cada uno en el contexto de la COVID-19**\n",
    "#### Ciclos de retroalimentación de Equilibrio (Positivos)\n",
    "Son ciclos donde una perturbación inicial provoca efectos secundarios que regresan para aumentar la magnitud de la perturbación inicial. Donde el cambio inicial se acentúa y saca al sistema de su estado de equilibrio original. También son conocidos como \"bucles de refuerzo\" debido a que también magnifican y refuerzan el cambio inicial, tendiendo a ser desestabilizadores y provocando cambios drásticos. Centrándose en los resultados netos positivos del proceso, identificando parámetros, decisiones y controles que contribuyen positivamente al éxito, con el objetivo de continuar y acelerar estas métricas de comportamiento positivo. \n",
    "\n",
    "Un ejemplo fue cuando ocurrió la propagación del virus, ya que como se observó a mediada que las personas se iban contagiando, había una gran posibilidad de que un mayor número de individuos ya contagiados fuera a contagiar a otros. Generando una gran aceleración de manera exponencial en el número de casos. Donde este ciclo de contagio reforzaba el crecimiento del brote, alejando al sistema en este caso la población sana de su estado inicial. \n",
    "\n",
    "Más contagios → Más mutaciones → Variantes más transmisibles → Más contagios \n",
    "\n",
    " \n",
    "\n",
    "#### Ciclos de retroalimentación de Equilibrio (Negativo): \n",
    "\n",
    "Son ciclos donde una perturbación inicial provoca efectos secundarios que regresan para minimizar la magnitud de la perturbación inicial. Donde el cambio inicial se reduce, impidiendo que el sistema se desvíe de su estado de equilibrio. En este caso también se conoce como \"bucles de equilibrio\" porque mantienen la estabilidad del sistema, siendo estabilizadores que minimizan los efectos iniciales. Ayudan a identificar las decisiones, acciones y factores cuyo resultado afecta negativamente el ritmo y rendimiento del sistema, funcionando como mecanismos de control y corrección. \n",
    "\n",
    "El ejemplo para esto consideramos que fue en el momento que se implementó las restricciones sanitarias como tambien la implementación de las cuarentenas. Esto debido a que cuando se veían los aumentos de los casos de contagio, se aplicaron las medidas de confinamiento, uso de mascarilla como el distanciamiento social lo que tenía como objetivo/efecto el que disminuyera la propagación del virus. Donde estas acciones reducían el número de contagios, ayudando a mantener el sistema más cercano a su equilibrio, evitando muchas consecuencias graves como un colapso sanitario.  \n",
    "\n",
    "Aumento de casos → Presión política → Implementación de restricciones → Reducción de casos → Flexibilización → Potencial aumento "
   ]
  },
  {
   "cell_type": "markdown",
   "id": "0036388b",
   "metadata": {},
   "source": [
    "3. **¿Por qué las ecuaciones diferenciales son fundamentales en los modelos de dinámica de sistemas? ¿Cómo capturan la no linealidad?**\n",
    "\n",
    "Son fundamentales debido a que permiten representar matemáticamente los cambios continuos en el tiempo de las variables de un sistema. Por ejemplo en el caso de los stocks cambian a lo largo del tiempo según sus flujos de entrada y salida. Las ecuaciones diferenciales describen precisamente esos cambios como tasas (derivadas ) Como tambien permiten modelar como variables como lo son población, capital, recursos, etc., evolucionan con el tiempo según sus influencias internas y externas. En el caso de los ciclos de retroalimentación, las relaciones entre variables, especialmente en bucles de refuerzo o equilibrio, se traducen en términos de ecuaciones diferenciales que definen cómo cambia cada variable dependiendo del estado de otras. Ahora como capturan lo no linealidad, surgen cuando las tasas de cambio no son proporcionales a los niveles, o dependen de productos, cocientes, funciones no lineales o condiciones lógicas. Donde se puede ver en una retroalimentación negativa no lineal que frena el crecimiento al acercarse a la capacidad de carga \n",
    "\n",
    "En resumen capturan la no linealidad mediante funciones no lineales como lo son exponenciales, logarítmicas, potenciales o bien Retroalimentación y limites en las taasas de cambio.  "
   ]
  },
  {
   "cell_type": "markdown",
   "id": "4b7a8a8b",
   "metadata": {},
   "source": [
    "4.\t**Dibuje un diagrama de bucle causal para la ocupación de camas hospitalarias durante una pandemia. Etiquete las reservas (p. ej., \"Pacientes de UCI\"), los flujos (p. ej., \"Admisiones\") y los bucles de retroalimentación (p. ej., \"Hacinamiento → Estancias más prolongadas → Disponibilidad reducida de camas\")**"
   ]
  },
  {
   "cell_type": "markdown",
   "id": "4b33aefb",
   "metadata": {},
   "source": [
    "## Ejercicio 2\n",
    "Responda las siguientes preguntas de forma clara"
   ]
  },
  {
   "cell_type": "markdown",
   "id": "6208843e",
   "metadata": {},
   "source": [
    "1.\t**¿Qué es un agente en el modelo ABM? ¿En qué se diferencia de un \"stock\" en la dinámica de sistemas?**\n",
    "\n",
    "Un agente en el modelo ABM es una unidad o bien entidad autónoma individual (Comportamiento individual) el cual puede ser representado por una empresa o bien por una persona, animal etc. Donde cada uno de estos agentes tiene un estado propio como lo es sus ingresos, edad, etc. Como también tiene la capacidad de tomar decisiones basadas en reglas, asimismo interactúan con otros agentes y/o entornos donde se puede cambiar sus reglas o comportamientos con el tiempo.  Ahora bien, un stock en Dinámica de Sistemas representa una cantidad acumulada agregada como lo es una población total o algún recurso disponible siendo un valor numérico agregado, donde su interacción es a través de flujos agregados y es determinado por ecuaciones diferenciales mientras que un Agente es individual (autónomo) mientras que un agente es explicito entre agentes siendo autónomo ya que se basa en reglas y su estado son propiedades únicas por agente. "
   ]
  },
  {
   "cell_type": "markdown",
   "id": "09764e52",
   "metadata": {},
   "source": [
    "2.\t**Describa cómo se representa la heterogeneidad (p. ej., edad, ingresos) en el ABM en comparación con la dinámica de sistemas.**\n",
    "\n",
    "En el caso de ABM, la heterogeneidad está integrada en los agentes, donde cada uno de los agentes puede tener estos atributos únicos (edad, ingresos, etc.) por ejemplo algunos agentes pueden ser más propensos a ser vacunados si son mayores con enfermedades preexistentes. En el caso de dinámica de sistemas la heterogeneidad se representa de forma segmentada o bien indirectamente donde no se modela el individuo de forma individual si no de forma grupal donde hay compartimientos distintos \"Población joven\" vs. \"Población anciana. \n",
    "\n",
    "* ABM: Agente Juan (edad=25, ingreso=30k, contactos=15/día) \n",
    "* Dinámica de Sistemas: Compartimento de Jóvenes (población=1000, Edad promedio=25, Contactos promedio=15/día) "
   ]
  },
  {
   "cell_type": "markdown",
   "id": "bd10412f",
   "metadata": {},
   "source": [
    "3.\t**¿Por qué el ABM suele ser estocástico? ¿Cómo afecta esto a la interpretación del modelo?**\n",
    "\n",
    "Esto es debido a que los agentes pueden realizar tomas de decisiones basadas en probabilidades donde también cuando hay interacción entre agentes esto es impredecible y dependen de varios factores como lo puede ser sus redes o entorno. En el caso de entorno este puede contener shocks aleatorios o bien presentar eventos inciertos. Esto afecta en que seguramente los resultados varían en cada simulación y se requieren una simulación múltiple para ver los patrones/resultados que son robustos. Ya que es necesario que los resultados requieran un análisis estadistico para hacer una interpretación.  "
   ]
  },
  {
   "cell_type": "markdown",
   "id": "2df568d1",
   "metadata": {},
   "source": [
    "4.\t**Imagine modelar una campaña de vacunación. Compare cómo la dinámica de sistemas (compartimentos agregados) y el análisis de mercado (agentes individuales) representarían la reticencia a la vacunación. ¿Qué enfoque captura mejor las redes sociales?**"
   ]
  },
  {
   "cell_type": "markdown",
   "id": "cdd72d2c",
   "metadata": {},
   "source": [
    "## Referencias \n",
    "\n",
    "Aronson, D. (s/f). Stocks y flujos ;Flujos y Acciones Paso a Paso: Mejorando el Rigor de su Pensamiento. Thesystemsthinker.com. https://thesystemsthinker.com/step-by-step-stocks-and-flows-improving-the-rigor-of-your-thinking/ \n",
    "\n",
    "Feedback cycle. (s/f). Energyeducation.Ca.  https://energyeducation.ca/encyclopedia/Feedback_cycle \n",
    "\n",
    "Fortmann-Roe, S., & Bellinger, G. (2017, noviembre 28). The Mathematics of Modeling: Differential Equations and System Dynamics [Systems thinking & modelling series]. RealKM. https://realkm.com/2017/11/28/the-mathematics-of-modeling-differential-equations-and-system-dynamics-systems-thinking-modelling-series/ \n",
    "\n",
    "Hibbert, C. (2019, septiembre 23). How do Agent-Based Models work? Simudyne. https://www.simudyne.com/resources/how-do-agent-based-models-work/ \n",
    "\n",
    "seo-ths. (2021, junio 22). El ciclo de retroalimentación y los beneficios de la metodología para la industria. Tayga HS; Tayga Heating Solutions. https://www.taygahs.com/es/ciclo-de-feedback-o-que-e-como-funciona-e-como-aplicar-na-sua-industr"
   ]
  }
 ],
 "metadata": {
  "language_info": {
   "name": "python"
  }
 },
 "nbformat": 4,
 "nbformat_minor": 5
}
