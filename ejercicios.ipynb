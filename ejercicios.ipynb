{
 "cells": [
  {
   "cell_type": "markdown",
   "id": "d99c217f",
   "metadata": {},
   "source": [
    "# **Hoja de Trabajo 1**\n",
    "### **Modelación y Simulación**\n",
    "### **Sección 20**\n",
    "\n",
    "- Derek Arreaga - 22537\n",
    "- Paula Barillas - 22764\n",
    "- Monica Salvatierra - 22249\n",
    "\n",
    "Link del repositorio: https://github.com/FabianKel/HDT1-ModSim\n"
   ]
  },
  {
   "cell_type": "markdown",
   "id": "5a9a2ac6",
   "metadata": {},
   "source": [
    "## Ejercicio 1\n",
    "Responda las siguientes preguntas de forma clara"
   ]
  },
  {
   "cell_type": "markdown",
   "id": "2b42dc32",
   "metadata": {},
   "source": [
    "1. **Defina los stocks (reservas) y los flujos en la dinámica de sistemas. Proporcione un ejemplo real (p. ej., modelado de pandemias)**\n",
    "\n",
    " \n",
    "\n",
    "- Los stocks en la dinámica de sistemas se conocen como entidades las cuales pueden acumularse o bien agotarse en el sistema. Estos representan el estado del sistema en un momento especifico y pueden llegar a medirse como una cantidad tangible. \n",
    "\n",
    "\n",
    "- Los flujos en la dinámica de sistemas son entidades las cuales hacen que los stocks aumenten o disminuyan. Estos flujos representan actividades o tasas de cambio que dependen del tiempo. Tomando el ejemplo del tiempo, en este caso si el tiempo se detuviera, los flujos desaparecerían ya que son acciones continuas. Por ejemplo en el caso del dinero de una cuenta, el flujo se tomaría en cuenta como un retiro, un pago o un depósito, ya que son movimientos que afectan directamente el stock (el saldo de la cuenta). Sin estos movimientos, el stock permanecería constante, pero con ellos, se puede observar cómo el sistema evoluciona o cambia con el tiempo.  \n",
    "\n",
    "Un ejemplo puntual vendría siendo las donaciones de sangre en un hospital. Los stocks o reservas serían la cantidad de sangre almacenada en el banco de sangre del hospital. En cuanto a los flujos, el flujo de entrada serían las donaciones de sangre que realizan los voluntarios, mientras el flujo de salida se representaría por las transfusiones de sangre que se les realizan a los pacientes.\n",
    "\n",
    " \n",
    "\n",
    " "
   ]
  },
  {
   "cell_type": "markdown",
   "id": "d85a0489",
   "metadata": {},
   "source": [
    "2. **Explique la diferencia entre ciclos de retroalimentación de equilibrio (negativos) y de refuerzo (positivos). Dé un ejemplo de cada uno en el contexto de la COVID-19**\n",
    "#### Ciclos de retroalimentación de refuerzo (Positivo)\n",
    "Estos ciclos se caracterizan porque una perturbación inicial genera efectos que refuerzan o amplifican ese mismo cambio. Es decir, cuanto más avanza el proceso, más se acelera, alejando al sistema de su estado de equilibrio. Por eso también se les llama bucles de refuerzo, ya que tienden a ser desestabilizadores y provocan cambios rápidos o exponenciales en el sistema.\n",
    "\n",
    "Durante las primeras etapas de la pandemia, el contagio funcionó como un ciclo de refuerzo. A medida que más personas se infectaban, el riesgo de transmisión aumentaba, lo que provocaba aún más contagios. Este crecimiento exponencial hizo que el brote se expandiera rápidamente y que el sistema (en este caso la población sana) se alejara cada vez más de su estado inicial.\n",
    " \n",
    "\n",
    "#### Ciclos de retroalimentación de Equilibrio (Negativo): \n",
    "\n",
    "A diferencia de los anteriores, estos ciclos actúan para contrarrestar una perturbación inicial, reduciendo sus efectos y buscando mantener la estabilidad del sistema. Por ello, se les conoce también como bucles de equilibrio, ya que cumplen un rol regulador y correctivo, evitando que el sistema se descontrole.\n",
    "\n",
    "Consideramos que un ejemplo de este tipo de ciclo durante la pandemia sucedió cuando los casos comenzaron a aumentar, los gobiernos implementaron medidas como cuarentenas, uso obligatorio de mascarillas y distanciamiento social. Estas acciones tenían como objetivo reducir la transmisión del virus y, por lo tanto, estabilizar el sistema. A medida que los contagios bajaban, algunas restricciones se flexibilizaban, permitiendo cierto equilibrio entre salud pública y actividad económica.\n"
   ]
  },
  {
   "cell_type": "markdown",
   "id": "0036388b",
   "metadata": {},
   "source": [
    "3. **¿Por qué las ecuaciones diferenciales son fundamentales en los modelos de dinámica de sistemas? ¿Cómo capturan la no linealidad?**\n",
    "\n",
    "Las ecuaciones diferenciales son fundamentales porque permiten expresar cómo cambian las variables del sistema de forma continua en el tiempo. Por ejemplo, los stocks cambian según sus flujos de entrada y salida, y estos cambios se representan como tasas de cambio (derivadas).\n",
    "\n",
    "También permiten modelar relaciones de causa y efecto entre variables, como ocurre en los ciclos de retroalimentación. Ahí, una variable puede depender del estado de otra, lo que genera una dinámica compleja que las ecuaciones diferenciales pueden describir con precisión.\n",
    "\n",
    "En cuanto a la no linealidad, aparece cuando el cambio no es proporcional al valor de la variable. Por ejemplo, en una epidemia, al principio los contagios crecen rápido, pero luego el crecimiento se frena cuando más personas ya están contagiadas o inmunes. Esa relación no es lineal, y se puede representar con funciones como exponenciales, divisiones o condiciones que cambian según el contexto."
   ]
  },
  {
   "cell_type": "markdown",
   "id": "4b7a8a8b",
   "metadata": {},
   "source": [
    "4.\t**Dibuje un diagrama de bucle causal para la ocupación de camas hospitalarias durante una pandemia. Etiquete las reservas (p. ej., \"Pacientes de UCI\"), los flujos (p. ej., \"Admisiones\") y los bucles de retroalimentación (p. ej., \"Hacinamiento → Estancias más prolongadas → Disponibilidad reducida de camas\")**"
   ]
  },
  {
   "cell_type": "markdown",
   "id": "4b33aefb",
   "metadata": {},
   "source": [
    "## Ejercicio 2\n",
    "Responda las siguientes preguntas de forma clara"
   ]
  },
  {
   "cell_type": "markdown",
   "id": "6208843e",
   "metadata": {},
   "source": [
    "1.\t**¿Qué es un agente en el modelo ABM? ¿En qué se diferencia de un \"stock\" en la dinámica de sistemas?**\n",
    "\n",
    "Un agente en el modelo ABM es una unidad o bien entidad autónoma individual (Comportamiento individual) el cual puede ser representado por una empresa o bien por una persona, animal etc. Donde cada uno de estos agentes tiene un estado propio como lo es sus ingresos, edad, etc. Como también tiene la capacidad de tomar decisiones basadas en reglas, asimismo interactúan con otros agentes y/o entornos donde se puede cambiar sus reglas o comportamientos con el tiempo.  Ahora bien, un stock en Dinámica de Sistemas representa una cantidad acumulada agregada como lo es una población total o algún recurso disponible siendo un valor numérico agregado, donde su interacción es a través de flujos agregados y es determinado por ecuaciones diferenciales mientras que un Agente es individual (autónomo) mientras que un agente es explicito entre agentes siendo autónomo ya que se basa en reglas y su estado son propiedades únicas por agente. "
   ]
  },
  {
   "cell_type": "markdown",
   "id": "09764e52",
   "metadata": {},
   "source": [
    "2.\t**Describa cómo se representa la heterogeneidad (p. ej., edad, ingresos) en el ABM en comparación con la dinámica de sistemas.**\n",
    "\n",
    "En el caso de ABM, la heterogeneidad está integrada en los agentes, donde cada uno de los agentes puede tener estos atributos únicos (edad, ingresos, etc.) por ejemplo algunos agentes pueden ser más propensos a ser vacunados si son mayores con enfermedades preexistentes. En el caso de dinámica de sistemas la heterogeneidad se representa de forma segmentada o bien indirectamente donde no se modela el individuo de forma individual si no de forma grupal donde hay compartimientos distintos \"Población joven\" vs. \"Población anciana. \n",
    "\n",
    "* ABM: Agente Juan (edad=25, ingreso=30k, contactos=15/día) \n",
    "* Dinámica de Sistemas: Compartimento de Jóvenes (población=1000, Edad promedio=25, Contactos promedio=15/día) "
   ]
  },
  {
   "cell_type": "markdown",
   "id": "bd10412f",
   "metadata": {},
   "source": [
    "3.\t**¿Por qué el ABM suele ser estocástico? ¿Cómo afecta esto a la interpretación del modelo?**\n",
    "\n",
    "Esto es debido a que los agentes pueden realizar tomas de decisiones basadas en probabilidades donde también cuando hay interacción entre agentes esto es impredecible y dependen de varios factores como lo puede ser sus redes o entorno. En el caso de entorno este puede contener shocks aleatorios o bien presentar eventos inciertos. Esto afecta en que seguramente los resultados varían en cada simulación y se requieren una simulación múltiple para ver los patrones/resultados que son robustos. Ya que es necesario que los resultados requieran un análisis estadistico para hacer una interpretación.  "
   ]
  },
  {
   "cell_type": "markdown",
   "id": "2df568d1",
   "metadata": {},
   "source": [
    "4.\t**Imagine modelar una campaña de vacunación. Compare cómo la dinámica de sistemas (compartimentos agregados) y el análisis de mercado (agentes individuales) representarían la reticencia a la vacunación. ¿Qué enfoque captura mejor las redes sociales?**\n",
    "\n",
    "La reticencia a la vacunación se representa de forma agregada, mediante compartimentos como “vacunados”, “no vacunados” y “reticentes”. Este enfoque se basa en las tasas de cambio entre estos grupos. Por ejemplo, cuántas personas cambian de “reticentes” a “vacunados” por campañas informativas, sin analizar individuos específicos.\n",
    "\n",
    "En cambio, el análisis de mercado basado en agentes modela a cada persona como un individuo con comportamientos, creencias y decisiones propias, influido por su entorno, experiencia y contactos. Este enfoque permite observar cómo la reticencia se propaga entre personas conectadas, simulando interacciones reales.\n",
    "\n",
    "Tomando en cuenta lo mencionado anteriormente, el enfoque basado en agentes individuales captura mejor la dinámica de las redes sociales, ya que permite modelar influencias directas entre personas (como el efecto de la opinión de un amigo o influencer en la decisión de vacunarse)."
   ]
  },
  {
   "cell_type": "markdown",
   "id": "a84242be",
   "metadata": {},
   "source": [
    "## Ejercicio 3"
   ]
  },
  {
   "cell_type": "markdown",
   "id": "f174c329",
   "metadata": {},
   "source": [
    "### Modelación Híbrida de una Enfermedad Infecciosa\n",
    "\n",
    "A continuación se implementará un **modelo computacional híbrido** que combina dos enfoques clave de modelación:  \n",
    "la **Dinámica de Sistemas** (modelo SIR) y el **Modelado Basado en Agentes (ABM)**. El objetivo es simular la propagación de una enfermedad infecciosa en una población y comparar los resultados entre los tres enfoques: SIR puro, ABM puro y modelo híbrido.\n",
    "\n",
    "---\n",
    "\n",
    "### Dinámica de Sistemas - Modelo SIR\n",
    "\n",
    "El modelo **SIR** es un modelo compartimental que representa a la población como grupos homogéneos. Divide a las personas en tres compartimentos:\n",
    "\n",
    "- **S (Susceptibles):** Personas que pueden contraer la enfermedad.\n",
    "- **I (Infectados):** Personas actualmente infectadas y que pueden contagiar.\n",
    "- **R (Recuperados):** Personas que han superado la enfermedad y son inmunes.\n",
    "\n",
    "Las transiciones entre estados se modelan con ecuaciones diferenciales:\n",
    "\n",
    "* $ \\frac{dS}{dt} = -\\beta \\cdot \\frac{S \\cdot I}{N} $\n",
    "\n",
    "* $ \\frac{dI}{dt} = \\beta \\cdot \\frac{S \\cdot I}{N} - \\gamma \\cdot I $\n",
    "\n",
    "* $ \\frac{dR}{dt} = \\gamma \\cdot I$\n",
    "\n",
    "Donde:\n",
    "- `β`: Tasa de transmisión (probabilidad de contagio por contacto).\n",
    "- `γ`: Tasa de recuperación (inverso del tiempo promedio de enfermedad).\n",
    "- `N`: Población total.\n",
    "\n",
    "Este modelo es **determinista** y **agregado**: no considera diferencias individuales ni aleatoriedad.\n",
    "\n",
    "---\n",
    "\n",
    "### Modelado Basado en Agentes (ABM)\n",
    "\n",
    "El modelo **ABM** representa cada persona como un **agente individual** con atributos y comportamientos propios:\n",
    "\n",
    "- **Atributos:** Edad, cumplimiento de medidas sanitarias (como uso de mascarilla).\n",
    "- **Estado:** Susceptible, Infectado o Recuperado.\n",
    "- **Comportamiento:** Interacciones aleatorias con otros agentes.\n",
    "\n",
    "La propagación ocurre de forma **probabilística**, dependiendo del cumplimiento individual y el número de contactos. Esto permite capturar fenómenos emergentes como:\n",
    "\n",
    "- **Eventos de superpropagación.**\n",
    "- **Diferencias por edad o comportamiento.**\n",
    "- **Efectos estocásticos y variabilidad.**\n",
    "\n",
    "Este modelo es más realista, pero también más complejo y menos predecible.\n",
    "\n",
    "---\n",
    "\n",
    "### Modelo Híbrido (SIR + ABM)\n",
    "\n",
    "El **modelo híbrido** integra ambos enfoques para combinar lo mejor de cada uno:\n",
    "\n",
    "1. **Inicialización:** El número de infectados iniciales proviene del modelo SIR.\n",
    "2. **Simulación ABM:** Se modelan las interacciones y transmisiones individuales de forma probabilística.\n",
    "3. **Retroalimentación:** Se calcula una **tasa de transmisión efectiva (β)** en cada paso basada en el comportamiento promedio de los agentes.\n",
    "4. **Actualización SIR:** Se usan los valores de β e I para actualizar el modelo SIR de forma dinámica.\n",
    "\n",
    "Esto permite simular:\n",
    "- El impacto de políticas de salud pública sobre el comportamiento individual.\n",
    "- Cómo el comportamiento individual afecta el curso general de la epidemia.\n",
    "- Un equilibrio entre **simplificación matemática** y **realismo social**."
   ]
  },
  {
   "cell_type": "markdown",
   "id": "4bca9253",
   "metadata": {},
   "source": [
    "---\n",
    "A continuación el código implementando los 3 enfoques para luego compararlos"
   ]
  },
  {
   "cell_type": "code",
   "execution_count": 1,
   "id": "f5251dd3",
   "metadata": {},
   "outputs": [],
   "source": [
    "import numpy as np\n",
    "import matplotlib.pyplot as plt\n",
    "from scipy.integrate import odeint\n",
    "import random"
   ]
  },
  {
   "cell_type": "code",
   "execution_count": 2,
   "id": "d6cd3a83",
   "metadata": {},
   "outputs": [],
   "source": [
    "# Parámetros globales\n",
    "N = 500            # Tamaño de la población\n",
    "I0 = 10            # Infectados iniciales\n",
    "R0 = 0             # Recuperados iniciales\n",
    "S0 = N - I0 - R0   # Susceptibles iniciales\n",
    "beta_base = 0.3    # Tasa de transmisión base\n",
    "gamma = 0.1        # Tasa de recuperación\n",
    "dias = 160         # Días de simulación"
   ]
  },
  {
   "cell_type": "markdown",
   "id": "43e0403d",
   "metadata": {},
   "source": [
    "### **Modelo SIR**"
   ]
  },
  {
   "cell_type": "code",
   "execution_count": 3,
   "id": "ea78723a",
   "metadata": {},
   "outputs": [],
   "source": [
    "def modelo_sir(y, t, N, beta, gamma):\n",
    "    S, I, R = y\n",
    "    dSdt = -beta * S * I / N\n",
    "    dIdt = beta * S * I / N - gamma * I\n",
    "    dRdt = gamma * I\n",
    "    return dSdt, dIdt, dRdt\n",
    "\n",
    "t = np.linspace(0, dias, dias)\n",
    "sol_sir = odeint(modelo_sir, (S0, I0, R0), t, args=(N, beta_base, gamma))\n",
    "S_sir, I_sir, R_sir = sol_sir.T"
   ]
  },
  {
   "cell_type": "markdown",
   "id": "354154b9",
   "metadata": {},
   "source": [
    "### **Modelo Basado en Agentes (ABM)**"
   ]
  },
  {
   "cell_type": "code",
   "execution_count": 4,
   "id": "90a55d06",
   "metadata": {},
   "outputs": [],
   "source": [
    "class Agente:\n",
    "    def __init__(self):\n",
    "        self.estado = 'S'\n",
    "        self.edad = random.randint(0, 100)\n",
    "        self.cumplimiento = random.uniform(0, 1)\n",
    "        self.dias_infectado = 0\n",
    "\n",
    "# Inicializar agentes\n",
    "agentes = [Agente() for _ in range(N)]\n",
    "for i in random.sample(range(N), I0):\n",
    "    agentes[i].estado = 'I'\n",
    "\n",
    "hist_abm = {'S': [], 'I': [], 'R': []}\n",
    "\n",
    "for _ in range(dias):\n",
    "    nuevos_infectados = []\n",
    "    nuevos_recuperados = []\n",
    "\n",
    "    for i, agente in enumerate(agentes):\n",
    "        if agente.estado == 'I':\n",
    "            agente.dias_infectado += 1\n",
    "            if random.random() < gamma:\n",
    "                nuevos_recuperados.append(i)\n",
    "        elif agente.estado == 'S':\n",
    "            contactos = random.sample(agentes, 10)\n",
    "            for otro in contactos:\n",
    "                if otro.estado == 'I':\n",
    "                    prob = beta_base * (1 - agente.cumplimiento)\n",
    "                    if random.random() < prob:\n",
    "                        nuevos_infectados.append(i)\n",
    "                        break\n",
    "\n",
    "    for i in nuevos_infectados:\n",
    "        agentes[i].estado = 'I'\n",
    "    for i in nuevos_recuperados:\n",
    "        agentes[i].estado = 'R'\n",
    "\n",
    "    S = sum(1 for a in agentes if a.estado == 'S')\n",
    "    I = sum(1 for a in agentes if a.estado == 'I')\n",
    "    R = sum(1 for a in agentes if a.estado == 'R')\n",
    "\n",
    "    hist_abm['S'].append(S)\n",
    "    hist_abm['I'].append(I)\n",
    "    hist_abm['R'].append(R)"
   ]
  },
  {
   "cell_type": "markdown",
   "id": "fae1adc1",
   "metadata": {},
   "source": [
    "### **Modelo Híbrido**"
   ]
  },
  {
   "cell_type": "code",
   "execution_count": 5,
   "id": "f0f56917",
   "metadata": {},
   "outputs": [],
   "source": [
    "# Inicializar de nuevo para el modelo híbrido\n",
    "agentes_h = [Agente() for _ in range(N)]\n",
    "for i in random.sample(range(N), I0):\n",
    "    agentes_h[i].estado = 'I'\n",
    "\n",
    "hist_hibrido = {'S': [], 'I': [], 'R': []}\n",
    "S, I, R = S0, I0, R0\n",
    "\n",
    "for dia in range(dias):\n",
    "    # Calcular beta efectiva según cumplimiento promedio\n",
    "    promedio_cumplimiento = np.mean([1 - a.cumplimiento for a in agentes_h if a.estado == 'S'])\n",
    "    beta_efectiva = beta_base * promedio_cumplimiento\n",
    "\n",
    "    # Paso SIR con beta dinámica\n",
    "    SIR = odeint(modelo_sir, (S, I, R), [0, 1], args=(N, beta_efectiva, gamma))\n",
    "    S, I, R = SIR[1]\n",
    "    S = int(S)\n",
    "    I = int(I)\n",
    "    R = N - S - I  # Asegurar consistencia\n",
    "\n",
    "    # Asignar nuevos estados a los agentes\n",
    "    todos = list(range(N))\n",
    "    random.shuffle(todos)\n",
    "    for i in todos:\n",
    "        agentes_h[i].estado = 'S'\n",
    "    for i in todos[:I]:\n",
    "        agentes_h[i].estado = 'I'\n",
    "    for i in todos[I:I+R]:\n",
    "        agentes_h[i].estado = 'R'\n",
    "\n",
    "    hist_hibrido['S'].append(S)\n",
    "    hist_hibrido['I'].append(I)\n",
    "    hist_hibrido['R'].append(R)"
   ]
  },
  {
   "cell_type": "markdown",
   "id": "cdd72d2c",
   "metadata": {},
   "source": [
    "## Referencias \n",
    "\n",
    "Aronson, D. (s/f). Stocks y flujos ;Flujos y Acciones Paso a Paso: Mejorando el Rigor de su Pensamiento. Thesystemsthinker.com. https://thesystemsthinker.com/step-by-step-stocks-and-flows-improving-the-rigor-of-your-thinking/ \n",
    "\n",
    "Feedback cycle. (s/f). Energyeducation.Ca.  https://energyeducation.ca/encyclopedia/Feedback_cycle \n",
    "\n",
    "Fortmann-Roe, S., & Bellinger, G. (2017, noviembre 28). The Mathematics of Modeling: Differential Equations and System Dynamics [Systems thinking & modelling series]. RealKM. https://realkm.com/2017/11/28/the-mathematics-of-modeling-differential-equations-and-system-dynamics-systems-thinking-modelling-series/ \n",
    "\n",
    "Hibbert, C. (2019, septiembre 23). How do Agent-Based Models work? Simudyne. https://www.simudyne.com/resources/how-do-agent-based-models-work/ \n",
    "\n",
    "seo-ths. (2021, junio 22). El ciclo de retroalimentación y los beneficios de la metodología para la industria. Tayga HS; Tayga Heating Solutions. https://www.taygahs.com/es/ciclo-de-feedback-o-que-e-como-funciona-e-como-aplicar-na-sua-industr"
   ]
  }
 ],
 "metadata": {
  "kernelspec": {
   "display_name": "Python 3",
   "language": "python",
   "name": "python3"
  },
  "language_info": {
   "codemirror_mode": {
    "name": "ipython",
    "version": 3
   },
   "file_extension": ".py",
   "mimetype": "text/x-python",
   "name": "python",
   "nbconvert_exporter": "python",
   "pygments_lexer": "ipython3",
   "version": "3.13.3"
  }
 },
 "nbformat": 4,
 "nbformat_minor": 5
}
