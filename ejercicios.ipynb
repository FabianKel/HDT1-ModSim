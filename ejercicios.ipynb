{
 "cells": [
  {
   "cell_type": "markdown",
   "id": "5a9a2ac6",
   "metadata": {},
   "source": [
    "## Ejercicio 1\n",
    "Responda las siguientes preguntas de forma clara"
   ]
  },
  {
   "cell_type": "markdown",
   "id": "2b42dc32",
   "metadata": {},
   "source": [
    "1. **Defina los stocks (reservas) y los flujos en la dinámica de sistemas. Proporcione un ejemplo real (p. ej., modelado de pandemias)**"
   ]
  },
  {
   "cell_type": "markdown",
   "id": "d85a0489",
   "metadata": {},
   "source": [
    "2. **Explique la diferencia entre ciclos de retroalimentación de equilibrio (negativos) y de refuerzo (positivos). Dé un ejemplo de cada uno en el contexto de la COVID-19**"
   ]
  },
  {
   "cell_type": "markdown",
   "id": "0036388b",
   "metadata": {},
   "source": [
    "3. **¿Por qué las ecuaciones diferenciales son fundamentales en los modelos de dinámica de sistemas? ¿Cómo capturan la no linealidad?**"
   ]
  },
  {
   "cell_type": "markdown",
   "id": "4b7a8a8b",
   "metadata": {},
   "source": [
    "4.\t**Dibuje un diagrama de bucle causal para la ocupación de camas hospitalarias durante una pandemia. Etiquete las reservas (p. ej., \"Pacientes de UCI\"), los flujos (p. ej., \"Admisiones\") y los bucles de retroalimentación (p. ej., \"Hacinamiento → Estancias más prolongadas → Disponibilidad reducida de camas\")**"
   ]
  },
  {
   "cell_type": "markdown",
   "id": "4b33aefb",
   "metadata": {},
   "source": [
    "## Ejercicio 2\n",
    "Responda las siguientes preguntas de forma clara"
   ]
  },
  {
   "cell_type": "markdown",
   "id": "6208843e",
   "metadata": {},
   "source": [
    "1.\t**¿Qué es un agente en el modelo ABM? ¿En qué se diferencia de un \"stock\" en la dinámica de sistemas?**"
   ]
  },
  {
   "cell_type": "markdown",
   "id": "09764e52",
   "metadata": {},
   "source": [
    "2.\t**Describa cómo se representa la heterogeneidad (p. ej., edad, ingresos) en el ABM en comparación con la dinámica de sistemas.**"
   ]
  },
  {
   "cell_type": "markdown",
   "id": "bd10412f",
   "metadata": {},
   "source": [
    "3.\t**¿Por qué el ABM suele ser estocástico? ¿Cómo afecta esto a la interpretación del modelo?**"
   ]
  },
  {
   "cell_type": "markdown",
   "id": "2df568d1",
   "metadata": {},
   "source": [
    "4.\t**Imagine modelar una campaña de vacunación. Compare cómo la dinámica de sistemas (compartimentos agregados) y el análisis de mercado (agentes individuales) representarían la reticencia a la vacunación. ¿Qué enfoque captura mejor las redes sociales?**"
   ]
  }
 ],
 "metadata": {
  "language_info": {
   "name": "python"
  }
 },
 "nbformat": 4,
 "nbformat_minor": 5
}
